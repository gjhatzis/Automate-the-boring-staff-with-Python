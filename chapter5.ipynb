{
 "cells": [
  {
   "cell_type": "code",
   "execution_count": 1,
   "metadata": {},
   "outputs": [
    {
     "name": "stdout",
     "output_type": "stream",
     "text": [
      "None\n"
     ]
    }
   ],
   "source": [
    "import requests\n",
    "from bs4 import BeautifulSoup\n",
    "url = 'http://www.webscrapingfordatascience.com/simplejavascript/'\n",
    "r = requests.get(url)\n",
    "html_soup = BeautifulSoup(r.text, 'html.parser')\n",
    "# No tag will be found here\n",
    "ul_tag = html_soup.find('ul')\n",
    "print(ul_tag)"
   ]
  },
  {
   "cell_type": "code",
   "execution_count": 2,
   "metadata": {},
   "outputs": [
    {
     "name": "stdout",
     "output_type": "stream",
     "text": [
      "<script>\n",
      "\t$(function() {\n",
      "\tdocument.cookie = \"jsenabled=1\";\n",
      "\t$.getJSON(\"quotes.php\", function(data) {\n",
      "\t\tvar items = [];\n",
      "\t\t$.each(data, function(key, val) {\n",
      "\t\t\titems.push(\"<li id='\" + key + \"'>\" + val + \"</li>\");\n",
      "\t\t});\n",
      "\t\t$(\"<ul/>\", {\n",
      "\t\t\thtml: items.join(\"\")\n",
      "\t\t\t}).appendTo(\"body\");\n",
      "\t\t});\n",
      "\t});\n",
      "\t</script>\n"
     ]
    }
   ],
   "source": [
    "script_tag = html_soup.find('script', attrs={'src': None})\n",
    "print(script_tag)"
   ]
  },
  {
   "cell_type": "code",
   "execution_count": 4,
   "metadata": {},
   "outputs": [
    {
     "name": "stdout",
     "output_type": "stream",
     "text": [
      "['Every strike brings me closer to the next home run. –Babe Ruth',\n",
      " \"Life shrinks or expands in proportion to one's courage. –Anais Nin\",\n",
      " 'Winning isn’t everything, but wanting to win is. –Vince Lombardi']\n"
     ]
    }
   ],
   "source": [
    "import requests,pprint\n",
    "url = 'http://www.webscrapingfordatascience.com/simplejavascript/quotes.php'\n",
    "# Note that cookie values need to be provided as strings\n",
    "r = requests.get(url, cookies={'jsenabled': '1'})\n",
    "pprint.pprint(r.json())"
   ]
  },
  {
   "cell_type": "code",
   "execution_count": null,
   "metadata": {},
   "outputs": [
    {
     "name": "stdout",
     "output_type": "stream",
     "text": [
      "Life is about making an impact, not making an income. -Kevin Kruse\n",
      "Whatever the mind of man can conceive and believe, it can achieve. –Napoleon Hill\n",
      "Strive not to be a success, but rather to be of value. –Albert Einstein\n"
     ]
    }
   ],
   "source": [
    "from selenium import webdriver\n",
    "url = 'http://www.webscrapingfordatascience.com/complexjavascript/'\n",
    "driver = webdriver.Chrome()\n",
    "driver.implicitly_wait(10)\n",
    "driver.get(url)\n",
    "for quote in driver.find_elements_by_class_name('quote'):\n",
    "    print(quote.text)\n",
    "input('Press ENTER to close the automated browser')\n",
    "driver.quit()"
   ]
  },
  {
   "cell_type": "code",
   "execution_count": null,
   "metadata": {},
   "outputs": [],
   "source": [
    "from selenium import webdriver\n",
    "from selenium.webdriver.common.by import By\n",
    "from selenium.webdriver.support.ui import WebDriverWait\n",
    "from selenium.webdriver.support import expected_conditions as EC\n",
    "url = 'http://www.webscrapingfordatascience.com/complexjavascript/'\n",
    "driver = webdriver.Chrome()\n",
    "driver.get(url)\n",
    "quote_elements = WebDriverWait(driver, 10).until(\n",
    "    EC.presence_of_all_elements_located(\n",
    "(By.CSS_SELECTOR, \".quote:not(.decode)\")\n",
    ")\n",
    ")\n",
    "for quote in quote_elements:\n",
    "    print(quote.text)\n",
    "input('Press ENTER to close the automated browser')\n",
    "driver.quit()"
   ]
  },
  {
   "cell_type": "code",
   "execution_count": null,
   "metadata": {},
   "outputs": [],
   "source": [
    "from selenium import webdriver\n",
    "from selenium.webdriver.common.by import By\n",
    "from selenium.webdriver.support.ui import WebDriverWait\n",
    "from selenium.webdriver.support import expected_conditions as EC\n",
    "from selenium.common.exceptions import TimeoutException\n",
    "class at_least_n_elements_found(object):\n",
    "    def __init__(self, locator, n):\n",
    "        self.locator = locator\n",
    "        self.n = n\n",
    "    def __call__(self, driver):\n",
    "        elements = driver.find_elements(*self.locator)\n",
    "        if len(elements) >= self.n:\n",
    "            return elements\n",
    "        else:\n",
    "            return False\n",
    "url = 'http://www.webscrapingfordatascience.com/complexjavascript/'\n",
    "driver = webdriver.Chrome()\n",
    "driver.get(url)\n",
    "# Use an implicit wait for cases where we don't use an explicit one\n",
    "driver.implicitly_wait(10)\n",
    "div_element = driver.find_element_by_class_name('infinite-scroll')\n",
    "quotes_locator = (By.CSS_SELECTOR, \".quote:not(.decode)\")\n",
    "nr_quotes = 0\n",
    "while True:\n",
    "# Scroll down to the bottom\n",
    "driver.execute_script(\n",
    "'arguments[0].scrollTop = arguments[0].scrollHeight',\n",
    "div_element)"
   ]
  }
 ],
 "metadata": {
  "kernelspec": {
   "display_name": "Python 3",
   "language": "python",
   "name": "python3"
  },
  "language_info": {
   "codemirror_mode": {
    "name": "ipython",
    "version": 3
   },
   "file_extension": ".py",
   "mimetype": "text/x-python",
   "name": "python",
   "nbconvert_exporter": "python",
   "pygments_lexer": "ipython3",
   "version": "3.7.6"
  }
 },
 "nbformat": 4,
 "nbformat_minor": 4
}
