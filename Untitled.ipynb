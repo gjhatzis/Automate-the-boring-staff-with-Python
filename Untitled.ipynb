{
 "cells": [
  {
   "cell_type": "code",
   "execution_count": null,
   "metadata": {},
   "outputs": [],
   "source": [
    "def collatz(number):\n",
    "    if (number%2)==0:\n",
    "        return number//2\n",
    "    else:\n",
    "        return 3*number+1\n",
    "\n",
    "    \n",
    "    \n",
    "input_value=int(input(\"Please give a number:>>\"))\n",
    "while result!=1:\n",
    "    result=collatz(input_value)\n",
    "    print(result)\n"
   ]
  }
 ],
 "metadata": {
  "kernelspec": {
   "display_name": "Python 3",
   "language": "python",
   "name": "python3"
  },
  "language_info": {
   "codemirror_mode": {
    "name": "ipython",
    "version": 3
   },
   "file_extension": ".py",
   "mimetype": "text/x-python",
   "name": "python",
   "nbconvert_exporter": "python",
   "pygments_lexer": "ipython3",
   "version": "3.7.6"
  }
 },
 "nbformat": 4,
 "nbformat_minor": 4
}
