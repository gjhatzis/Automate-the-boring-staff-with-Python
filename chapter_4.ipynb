{
 "cells": [
  {
   "cell_type": "code",
   "execution_count": 4,
   "metadata": {},
   "outputs": [
    {
     "name": "stdout",
     "output_type": "stream",
     "text": [
      "<html>\n",
      "\t<body>\n",
      "\n",
      "\n",
      "You waited too long to submit this information. Try <a href=\"./\">again</a>.\n",
      "\n",
      "\t</body>\n",
      "</html>\n",
      "\n"
     ]
    }
   ],
   "source": [
    "import requests\n",
    "url = 'http://www.webscrapingfordatascience.com/postform3/'\n",
    "# No GET request needed?\n",
    "formdata = {\n",
    "'name': 'Seppe',\n",
    "'gender': 'M',\n",
    "'pizza': 'like',\n",
    "'haircolor': 'brown',\n",
    "'comments': '',\n",
    "'protection': '2c17abf5d5b4e326bea802600ff88405'\n",
    "}\n",
    "r = requests.post(url, data=formdata)\n",
    "print(r.text)"
   ]
  },
  {
   "cell_type": "code",
   "execution_count": 5,
   "metadata": {},
   "outputs": [
    {
     "name": "stdout",
     "output_type": "stream",
     "text": [
      "<html>\n",
      "\t<body>\n",
      "\n",
      "\n",
      "\n",
      "<h2>Thanks for submitting your information</h2>\n",
      "\n",
      "<p>Here's a dump of the form data that was submitted:</p>\n",
      "\n",
      "<pre>array(6) {\n",
      "  [\"name\"]=>\n",
      "  string(5) \"Seppe\"\n",
      "  [\"gender\"]=>\n",
      "  string(1) \"M\"\n",
      "  [\"pizza\"]=>\n",
      "  string(4) \"like\"\n",
      "  [\"haircolor\"]=>\n",
      "  string(5) \"brown\"\n",
      "  [\"comments\"]=>\n",
      "  string(0) \"\"\n",
      "  [\"protection\"]=>\n",
      "  string(32) \"b1a2488922877aa441ab743c14e90117\"\n",
      "}\n",
      "</pre>\n",
      "\n",
      "\n",
      "\n",
      "\t</body>\n",
      "</html>\n",
      "\n"
     ]
    }
   ],
   "source": [
    "import requests\n",
    "from bs4 import BeautifulSoup\n",
    "\n",
    "url = 'http://www.webscrapingfordatascience.com/postform3/'\n",
    "# First perform a GET request\n",
    "\n",
    "r = requests.get(url)\n",
    "\n",
    "# Get out the value for protection\n",
    "html_soup = BeautifulSoup(r.text, 'html.parser')\n",
    "\n",
    "p_val = html_soup.find('input', attrs={'name': 'protection'}).get('value')\n",
    "# Then use it in a POST request\n",
    "\n",
    "formdata = {\n",
    "'name': 'Seppe',\n",
    "'gender': 'M',\n",
    "'pizza': 'like',\n",
    "'haircolor': 'brown',\n",
    "'comments': '',\n",
    "'protection': p_val\n",
    "}\n",
    "r = requests.post(url, data=formdata)\n",
    "print(r.text)"
   ]
  },
  {
   "cell_type": "code",
   "execution_count": 6,
   "metadata": {},
   "outputs": [
    {
     "name": "stdout",
     "output_type": "stream",
     "text": [
      "<html>\n",
      "\t<body>\n",
      "\n",
      "\n",
      "<h2>Thanks for submitting your information</h2>\n",
      "\n",
      "<p>Here's a dump of the form data that was submitted:</p>\n",
      "\n",
      "<pre>array(1) {\n",
      "  [\"name\"]=>\n",
      "  string(5) \"Seppe\"\n",
      "}\n",
      "</pre>\n",
      "\n",
      "\n",
      "\t</body>\n",
      "</html>\n",
      "\n"
     ]
    }
   ],
   "source": [
    "import requests\n",
    "url = 'http://www.webscrapingfordatascience.com/postform2/'\n",
    "paramdata = {'name': 'Totally Not Seppe'}\n",
    "formdata = {'name': 'Seppe'}\n",
    "r = requests.post(url, params=paramdata, data=formdata)\n",
    "print(r.text)"
   ]
  },
  {
   "cell_type": "code",
   "execution_count": 7,
   "metadata": {},
   "outputs": [
    {
     "name": "stdout",
     "output_type": "stream",
     "text": [
      "It seems you are using a scraper!\n",
      "{'User-Agent': 'python-requests/2.23.0', 'Accept-Encoding': 'gzip, deflate', 'Accept': '*/*', 'Connection': 'keep-alive'}\n"
     ]
    }
   ],
   "source": [
    "import requests\n",
    "url = 'http://www.webscrapingfordatascience.com/usercheck/'\n",
    "r = requests.get(url)\n",
    "print(r.text)\n",
    "# Shows: It seems you are using a scraper\n",
    "print(r.request.headers)"
   ]
  },
  {
   "cell_type": "code",
   "execution_count": 10,
   "metadata": {},
   "outputs": [
    {
     "name": "stdout",
     "output_type": "stream",
     "text": [
      "Welcome, normal user!\n",
      "{'User-Agent': 'Mozilla/5.0 (Windows NT 10.0; Win64; x64) AppleWebKit/537.36  (KHTML, like Gecko) Chrome/61.0.3163.100 Safari/537.36', 'Accept-Encoding': 'gzip, deflate', 'Accept': '*/*', 'Connection': 'keep-alive'}\n"
     ]
    }
   ],
   "source": [
    "import requests\n",
    "url = 'http://www.webscrapingfordatascience.com/usercheck/'\n",
    "my_headers = {'User-Agent': 'Mozilla/5.0 (Windows NT 10.0; Win64; x64) AppleWebKit/537.36 ' + \n",
    "              ' (KHTML, like Gecko) Chrome/61.0.3163.100 Safari/537.36'}\n",
    "r = requests.get(url, headers=my_headers)\n",
    "print(r.text)\n",
    "print(r.request.headers)"
   ]
  },
  {
   "cell_type": "code",
   "execution_count": 11,
   "metadata": {},
   "outputs": [
    {
     "name": "stdout",
     "output_type": "stream",
     "text": [
      "This is a totally secret page\n"
     ]
    }
   ],
   "source": [
    "import requests\n",
    "url = 'http://www.webscrapingfordatascience.com/referercheck/secret.php'\n",
    "my_headers = {\n",
    "'Referer': 'http://www.webscrapingfordatascience.com/referercheck/'\n",
    "}\n",
    "r = requests.get(url, headers=my_headers)\n",
    "print(r.text)"
   ]
  },
  {
   "cell_type": "code",
   "execution_count": 12,
   "metadata": {
    "scrolled": true
   },
   "outputs": [
    {
     "name": "stdout",
     "output_type": "stream",
     "text": [
      "Hello, there -- you've been redirected here from another page!\n",
      "\n",
      "{'Date': 'Fri, 22 May 2020 07:25:39 GMT', 'Server': 'Apache/2.4.18 (Ubuntu)', 'Content-Length': '63', 'Keep-Alive': 'timeout=5, max=99', 'Connection': 'Keep-Alive', 'Content-Type': 'text/html; charset=UTF-8'}\n"
     ]
    }
   ],
   "source": [
    "import requests\n",
    "url = 'http://www.webscrapingfordatascience.com/redirect/'\n",
    "r = requests.get(url)\n",
    "print(r.text)\n",
    "print(r.headers)"
   ]
  },
  {
   "cell_type": "code",
   "execution_count": 13,
   "metadata": {},
   "outputs": [
    {
     "name": "stdout",
     "output_type": "stream",
     "text": [
      "Hmm... it seems you are not logged in\n"
     ]
    }
   ],
   "source": [
    "import requests\n",
    "url = 'http://www.webscrapingfordatascience.com/cookielogin/secret.php'\n",
    "r = requests.get(url)\n",
    "print(r.text)"
   ]
  },
  {
   "cell_type": "code",
   "execution_count": 14,
   "metadata": {},
   "outputs": [
    {
     "name": "stdout",
     "output_type": "stream",
     "text": [
      "<RequestsCookieJar[<Cookie PHPSESSID=90pav5s7a8kuqn1jr6l94qqgg3 for www.webscrapingfordatascience.com/>]>\n"
     ]
    }
   ],
   "source": [
    "import requests\n",
    "url = 'http://www.webscrapingfordatascience.com/cookielogin/'\n",
    "\n",
    "r = requests.post(url, data={'username': 'dummy', 'password': '1234'})\n",
    "\n",
    "my_cookies = r.cookies\n",
    "\n",
    "my_cookies['PHPSESSID'] = r.cookies.get('PHPSESSID')\n",
    "\n",
    "r = requests.get(url + 'secret.php', cookies=my_cookies)\n",
    "print(r.text)"
   ]
  },
  {
   "cell_type": "code",
   "execution_count": 15,
   "metadata": {},
   "outputs": [
    {
     "name": "stdout",
     "output_type": "stream",
     "text": [
      "Here is your secret code: 3838.\n"
     ]
    }
   ],
   "source": [
    "import requests\n",
    "url = 'http://www.webscrapingfordatascience.com/trickylogin/'\n",
    "my_session = requests.Session()\n",
    "r = my_session.post(url)\n",
    "r = my_session.post(url, params={'p': 'login'},\n",
    "data={'username': 'dummy', 'password': '1234'})\n",
    "r = my_session.get(url, params={'p': 'protected'})\n",
    "print(r.text)"
   ]
  },
  {
   "cell_type": "code",
   "execution_count": 16,
   "metadata": {},
   "outputs": [
    {
     "name": "stdout",
     "output_type": "stream",
     "text": [
      "{'User-Agent': 'Chrome!', 'Accept-Encoding': 'gzip, deflate', 'Accept': '*/*', 'Connection': 'keep-alive', 'Content-Length': '0'}\n",
      "{'User-Agent': 'Chrome!', 'Accept-Encoding': 'gzip, deflate', 'Accept': '*/*', 'Connection': 'keep-alive', 'Cookie': 'PHPSESSID=55n4kea8i79phplqlge11eggr0'}\n",
      "{'User-Agent': 'Chrome!', 'Accept-Encoding': 'gzip, deflate', 'Accept': '*/*', 'Connection': 'keep-alive', 'Cookie': 'PHPSESSID=jop3jpd8beb8hc5hakfm03dam5'}\n"
     ]
    }
   ],
   "source": [
    "import requests\n",
    "url = 'http://www.webscrapingfordatascience.com/trickylogin/'\n",
    "my_session = requests.Session()\n",
    "my_session.headers.update({'User-Agent': 'Chrome!'})\n",
    "# All requests in this session will now use this User-Agent header:\n",
    "r = my_session.post(url)\n",
    "print(r.request.headers)\n",
    "r = my_session.post(url, params={'p': 'login'},\n",
    "data={'username': 'dummy', 'password': '1234'})\n",
    "print(r.request.headers)\n",
    "r = my_session.get(url, params={'p': 'protected'})\n",
    "print(r.request.headers)"
   ]
  },
  {
   "cell_type": "code",
   "execution_count": 23,
   "metadata": {},
   "outputs": [
    {
     "data": {
      "text/plain": [
       "65771"
      ]
     },
     "execution_count": 23,
     "metadata": {},
     "output_type": "execute_result"
    }
   ],
   "source": [
    "import requests\n",
    "url = 'http://www.webscrapingfordatascience.com/files/kitten.jpg'\n",
    "r = requests.get(url)\n",
    "my_file = open('image.jpg', 'wb')\n",
    "my_file.write(r.content)"
   ]
  },
  {
   "cell_type": "code",
   "execution_count": 24,
   "metadata": {},
   "outputs": [
    {
     "data": {
      "text/plain": [
       "<_io.BufferedWriter name='image.jpg'>"
      ]
     },
     "execution_count": 24,
     "metadata": {},
     "output_type": "execute_result"
    }
   ],
   "source": [
    "my_file"
   ]
  },
  {
   "cell_type": "code",
   "execution_count": 25,
   "metadata": {},
   "outputs": [],
   "source": [
    "import requests\n",
    "url = 'http://www.webscrapingfordatascience.com/files/kitten.jpg'\n",
    "r = requests.get(url, stream=True)\n",
    "with open('image.jpg', 'wb') as my_file:\n",
    "# Read by 4KB chunks\n",
    "    for byte_chunk in r.iter_content(chunk_size=4096):\n",
    "        my_file.write(byte_chunk)"
   ]
  },
  {
   "cell_type": "code",
   "execution_count": 27,
   "metadata": {},
   "outputs": [
    {
     "data": {
      "text/plain": [
       "<_io.BufferedWriter name='image.jpg'>"
      ]
     },
     "execution_count": 27,
     "metadata": {},
     "output_type": "execute_result"
    }
   ],
   "source": [
    "my_file"
   ]
  },
  {
   "cell_type": "code",
   "execution_count": 28,
   "metadata": {},
   "outputs": [
    {
     "name": "stdout",
     "output_type": "stream",
     "text": [
      "{'results': [1, 4, 6, 7, 11, 14, 29]}\n",
      "[1, 4, 6, 7, 11, 14, 29]\n"
     ]
    }
   ],
   "source": [
    "import requests\n",
    "url = 'http://www.webscrapingfordatascience.com/jsonajax/results.php'\n",
    "r = requests.post(url, data={'api_code': 'C123456'})\n",
    "print(r.json())\n",
    "print(r.json().get('results'))"
   ]
  },
  {
   "cell_type": "code",
   "execution_count": 29,
   "metadata": {},
   "outputs": [
    {
     "name": "stdout",
     "output_type": "stream",
     "text": [
      "{'User-Agent': 'python-requests/2.23.0', 'Accept-Encoding': 'gzip, deflate', 'Accept': '*/*', 'Connection': 'keep-alive', 'Content-Length': '23', 'Content-Type': 'application/json'}\n",
      "{'results': [1, 4, 15, 17, 19, 25, 28]}\n"
     ]
    }
   ],
   "source": [
    "import requests\n",
    "url = 'http://www.webscrapingfordatascience.com/jsonajax/results2.php'\n",
    "# Use the json argument to encode the data as JSON:\n",
    "r = requests.post(url, json={'api_code': 'C123456'})\n",
    "# Note the Content-Type header in the request:\n",
    "print(r.request.headers)\n",
    "print(r.json())"
   ]
  },
  {
   "cell_type": "code",
   "execution_count": null,
   "metadata": {},
   "outputs": [],
   "source": []
  }
 ],
 "metadata": {
  "kernelspec": {
   "display_name": "Python 3",
   "language": "python",
   "name": "python3"
  },
  "language_info": {
   "codemirror_mode": {
    "name": "ipython",
    "version": 3
   },
   "file_extension": ".py",
   "mimetype": "text/x-python",
   "name": "python",
   "nbconvert_exporter": "python",
   "pygments_lexer": "ipython3",
   "version": "3.7.6"
  }
 },
 "nbformat": 4,
 "nbformat_minor": 4
}
